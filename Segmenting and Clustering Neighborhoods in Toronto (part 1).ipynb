{
    "nbformat_minor": 1, 
    "cells": [
        {
            "execution_count": 1, 
            "cell_type": "code", 
            "metadata": {}, 
            "outputs": [
                {
                    "output_type": "stream", 
                    "name": "stdout", 
                    "text": "Requirement already satisfied: beautifulsoup4 in /opt/conda/envs/DSX-Python35/lib/python3.5/site-packages (4.6.0)\n\u001b[31mtensorflow 1.3.0 requires tensorflow-tensorboard<0.2.0,>=0.1.0, which is not installed.\u001b[0m\n"
                }
            ], 
            "source": "!pip install beautifulsoup4"
        }, 
        {
            "source": "make beautifulsoup object of website", 
            "cell_type": "markdown", 
            "metadata": {}
        }, 
        {
            "execution_count": 81, 
            "cell_type": "code", 
            "metadata": {}, 
            "outputs": [], 
            "source": "url = r'https://en.wikipedia.org/wiki/List_of_postal_codes_of_Canada:_M'\nimport bs4\nimport requests\n\nr  = requests.get(url)\n\ndata = r.text\n\nsoup = bs4.BeautifulSoup(data, 'lxml')"
        }, 
        {
            "source": "convert website contents to dataframe", 
            "cell_type": "markdown", 
            "metadata": {}
        }, 
        {
            "execution_count": 82, 
            "cell_type": "code", 
            "metadata": {}, 
            "outputs": [
                {
                    "output_type": "stream", 
                    "name": "stdout", 
                    "text": "  postcode           borough            neighborhood\n0      M1A      Not assigned           Not assigned\n\n1      M2A      Not assigned           Not assigned\n\n2      M3A        North York               Parkwoods\n3      M4A        North York        Victoria Village\n4      M5A  Downtown Toronto  Harbourfront (Toronto)\n5      M5A  Downtown Toronto             Regent Park\n6      M6A        North York        Lawrence Heights\n7      M6A        North York          Lawrence Manor\n8      M7A      Queen's Park           Not assigned\n\n9      M8A      Not assigned           Not assigned\n\n"
                }
            ], 
            "source": "import pandas as pd\nmy_table = soup.find('table',{'class':'wikitable sortable'})\nentries = my_table.find_all('td')\n\ncols = ['postcode', 'borough', 'neighborhood']\ndata_dict = {'postcode': [], 'borough': [], 'neighborhood': []}\n\nit = iter(entries)\n\nwhile True:\n    for col in cols:\n        entry = next(it, False)\n        if not entry:\n            break\n        if entry.string is None:\n            data_dict[col].append(entry.contents[0].attrs['title'])\n        else:\n            data_dict[col].append(entry.string)\n    else:\n        continue\n    \n    break\n\ndf = pd.DataFrame(data_dict)\ndf = df[cols]\n\nprint(df[:10])"
        }, 
        {
            "source": "take out the rows with a borough that is not assigned", 
            "cell_type": "markdown", 
            "metadata": {}
        }, 
        {
            "execution_count": 47, 
            "cell_type": "code", 
            "metadata": {
                "scrolled": true
            }, 
            "outputs": [
                {
                    "output_type": "stream", 
                    "name": "stdout", 
                    "text": "   postcode           borough            neighborhood\n2       M3A        North York               Parkwoods\n3       M4A        North York        Victoria Village\n4       M5A  Downtown Toronto  Harbourfront (Toronto)\n5       M5A  Downtown Toronto             Regent Park\n6       M6A        North York        Lawrence Heights\n7       M6A        North York          Lawrence Manor\n8       M7A      Queen's Park           Not assigned\n\n10      M9A         Etobicoke        Islington Avenue\n11      M1B       Scarborough          Rouge, Toronto\n12      M1B       Scarborough        Malvern, Toronto\n"
                }
            ], 
            "source": "df = df[df.borough != 'Not assigned']\nprint(df[:10])"
        }, 
        {
            "source": "merge the neighborhoods that have the same postcode", 
            "cell_type": "markdown", 
            "metadata": {}
        }, 
        {
            "execution_count": 79, 
            "cell_type": "code", 
            "metadata": {}, 
            "outputs": [
                {
                    "output_type": "stream", 
                    "name": "stdout", 
                    "text": "   postcode      borough                                       neighborhood\n0       M1B  Scarborough                   Rouge, Toronto, Malvern, Toronto\n1       M1C  Scarborough  Highland Creek (Toronto), Rouge Hill, Port Uni...\n2       M1E  Scarborough  Guildwood, Morningside, Toronto, West Hill, To...\n3       M1G  Scarborough                                    Woburn, Toronto\n4       M1H  Scarborough                                          Cedarbrae\n5       M1J  Scarborough                                Scarborough Village\n6       M1K  Scarborough  East Birchmount Park, Ionview, Kennedy Park, T...\n7       M1L  Scarborough  Clairlea, Golden Mile, Toronto, Oakridge, Toronto\n8       M1M  Scarborough  Cliffcrest, Cliffside, Toronto, Scarborough Vi...\n9       M1N  Scarborough                        Birch Cliff, Cliffside West\n10      M1P  Scarborough  Dorset Park, Scarborough Town Centre, Wexford ...\n11      M1R  Scarborough                Maryvale, Toronto, Wexford, Toronto\n12      M1S  Scarborough                                 Agincourt, Toronto\n13      M1T  Scarborough  Clarks Corners, Sullivan, Tam O'Shanter \u2013 Sull...\n14      M1V  Scarborough  Agincourt North, L'Amoreaux East, Milliken, On...\n15      M1W  Scarborough                                    L'Amoreaux West\n16      M1X  Scarborough                                        Upper Rouge\n17      M2H   North York                                  Hillcrest Village\n18      M2J   North York                       Fairview, Henry Farm, Oriole\n19      M2K   North York                                    Bayview Village\n"
                }
            ], 
            "source": "def tmp(group_series):\n    return pd.Series(data={'borough': group_series.iloc[0].borough, 'neighborhood': ', '.join([neighborhood.strip() for neighborhood in group_series.neighborhood])})\n    \ndf = df.groupby('postcode').agg(tmp)\n\ndf.reset_index(inplace=True)\n\nprint(df[:20])"
        }, 
        {
            "source": "if the neighborhood is not assigned but the borough is, set the neighborhood to the borough", 
            "cell_type": "markdown", 
            "metadata": {}
        }, 
        {
            "execution_count": 80, 
            "cell_type": "code", 
            "metadata": {}, 
            "outputs": [], 
            "source": "df.loc[df.neighborhood == 'Not assigned', 'neighborhood'] = df.loc[df.neighborhood == 'Not assigned', 'borough']"
        }, 
        {
            "execution_count": 83, 
            "cell_type": "code", 
            "metadata": {}, 
            "outputs": [
                {
                    "execution_count": 83, 
                    "metadata": {}, 
                    "data": {
                        "text/plain": "(288, 3)"
                    }, 
                    "output_type": "execute_result"
                }
            ], 
            "source": "df.shape"
        }
    ], 
    "metadata": {
        "kernelspec": {
            "display_name": "Python 3.5", 
            "name": "python3", 
            "language": "python"
        }, 
        "language_info": {
            "mimetype": "text/x-python", 
            "nbconvert_exporter": "python", 
            "version": "3.5.5", 
            "name": "python", 
            "file_extension": ".py", 
            "pygments_lexer": "ipython3", 
            "codemirror_mode": {
                "version": 3, 
                "name": "ipython"
            }
        }
    }, 
    "nbformat": 4
}