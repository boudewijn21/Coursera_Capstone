{
    "nbformat_minor": 1, 
    "cells": [
        {
            "execution_count": 3, 
            "cell_type": "code", 
            "metadata": {}, 
            "outputs": [
                {
                    "output_type": "stream", 
                    "name": "stdout", 
                    "text": "Requirement already satisfied: beautifulsoup4 in /opt/conda/envs/DSX-Python35/lib/python3.5/site-packages (4.6.0)\n\u001b[31mtensorflow 1.3.0 requires tensorflow-tensorboard<0.2.0,>=0.1.0, which is not installed.\u001b[0m\n"
                }
            ], 
            "source": "!pip install beautifulsoup4"
        }, 
        {
            "source": "make beautifulsoup object of website", 
            "cell_type": "markdown", 
            "metadata": {}
        }, 
        {
            "execution_count": 4, 
            "cell_type": "code", 
            "metadata": {}, 
            "outputs": [], 
            "source": "url = r'https://en.wikipedia.org/wiki/List_of_postal_codes_of_Canada:_M'\nimport bs4\nimport requests\n\nr  = requests.get(url)\n\ndata = r.text\n\nsoup = bs4.BeautifulSoup(data, 'lxml')"
        }, 
        {
            "source": "convert website contents to dataframe", 
            "cell_type": "markdown", 
            "metadata": {}
        }, 
        {
            "execution_count": 5, 
            "cell_type": "code", 
            "metadata": {}, 
            "outputs": [
                {
                    "output_type": "stream", 
                    "name": "stdout", 
                    "text": "  postcode           borough            neighborhood\n0      M1A      Not assigned           Not assigned\n\n1      M2A      Not assigned           Not assigned\n\n2      M3A        North York               Parkwoods\n3      M4A        North York        Victoria Village\n4      M5A  Downtown Toronto  Harbourfront (Toronto)\n5      M5A  Downtown Toronto             Regent Park\n6      M6A        North York        Lawrence Heights\n7      M6A        North York          Lawrence Manor\n8      M7A      Queen's Park           Not assigned\n\n9      M8A      Not assigned           Not assigned\n\n"
                }
            ], 
            "source": "import pandas as pd\nmy_table = soup.find('table',{'class':'wikitable sortable'})\nentries = my_table.find_all('td')\n\ncols = ['postcode', 'borough', 'neighborhood']\ndata_dict = {'postcode': [], 'borough': [], 'neighborhood': []}\n\nit = iter(entries)\n\nwhile True:\n    for col in cols:\n        entry = next(it, False)\n        if not entry:\n            break\n        if entry.string is None:\n            data_dict[col].append(entry.contents[0].attrs['title'])\n        else:\n            data_dict[col].append(entry.string)\n    else:\n        continue\n    \n    break\n\ndf = pd.DataFrame(data_dict)\ndf = df[cols]\n\nprint(df[:10])"
        }, 
        {
            "source": "take out the rows with a borough that is not assigned", 
            "cell_type": "markdown", 
            "metadata": {}
        }, 
        {
            "execution_count": 6, 
            "cell_type": "code", 
            "metadata": {
                "scrolled": true
            }, 
            "outputs": [
                {
                    "output_type": "stream", 
                    "name": "stdout", 
                    "text": "   postcode           borough            neighborhood\n2       M3A        North York               Parkwoods\n3       M4A        North York        Victoria Village\n4       M5A  Downtown Toronto  Harbourfront (Toronto)\n5       M5A  Downtown Toronto             Regent Park\n6       M6A        North York        Lawrence Heights\n7       M6A        North York          Lawrence Manor\n8       M7A      Queen's Park           Not assigned\n\n10      M9A         Etobicoke        Islington Avenue\n11      M1B       Scarborough          Rouge, Toronto\n12      M1B       Scarborough        Malvern, Toronto\n"
                }
            ], 
            "source": "df = df[df.borough != 'Not assigned']\nprint(df[:10])"
        }, 
        {
            "source": "merge the neighborhoods that have the same postcode", 
            "cell_type": "markdown", 
            "metadata": {}
        }, 
        {
            "execution_count": 18, 
            "cell_type": "code", 
            "metadata": {}, 
            "outputs": [
                {
                    "output_type": "stream", 
                    "name": "stdout", 
                    "text": "              borough                                       neighborhood\npostcode                                                                \nM1B       Scarborough                   Rouge, Toronto, Malvern, Toronto\nM1C       Scarborough  Highland Creek (Toronto), Rouge Hill, Port Uni...\nM1E       Scarborough  Guildwood, Morningside, Toronto, West Hill, To...\nM1G       Scarborough                                    Woburn, Toronto\nM1H       Scarborough                                          Cedarbrae\nM1J       Scarborough                                Scarborough Village\nM1K       Scarborough  East Birchmount Park, Ionview, Kennedy Park, T...\nM1L       Scarborough  Clairlea, Golden Mile, Toronto, Oakridge, Toronto\nM1M       Scarborough  Cliffcrest, Cliffside, Toronto, Scarborough Vi...\nM1N       Scarborough                        Birch Cliff, Cliffside West\nM1P       Scarborough  Dorset Park, Scarborough Town Centre, Wexford ...\nM1R       Scarborough                Maryvale, Toronto, Wexford, Toronto\nM1S       Scarborough                                 Agincourt, Toronto\nM1T       Scarborough  Clarks Corners, Sullivan, Tam O'Shanter \u2013 Sull...\nM1V       Scarborough  Agincourt North, L'Amoreaux East, Milliken, On...\nM1W       Scarborough                                    L'Amoreaux West\nM1X       Scarborough                                        Upper Rouge\nM2H        North York                                  Hillcrest Village\nM2J        North York                       Fairview, Henry Farm, Oriole\nM2K        North York                                    Bayview Village\n"
                }
            ], 
            "source": "def tmp(group_series):\n    return pd.Series(data={'borough': group_series.iloc[0].borough, 'neighborhood': ', '.join([neighborhood.strip() for neighborhood in group_series.neighborhood])})\n    \ndf = df.groupby('postcode').agg(tmp)\n\n# df.reset_index(inplace=True)\n\nprint(df[:20])"
        }, 
        {
            "source": "if the neighborhood is not assigned but the borough is, set the neighborhood to the borough", 
            "cell_type": "markdown", 
            "metadata": {}
        }, 
        {
            "execution_count": 19, 
            "cell_type": "code", 
            "metadata": {}, 
            "outputs": [], 
            "source": "df.loc[df.neighborhood == 'Not assigned', 'neighborhood'] = df.loc[df.neighborhood == 'Not assigned', 'borough']"
        }, 
        {
            "execution_count": 20, 
            "cell_type": "code", 
            "metadata": {}, 
            "outputs": [
                {
                    "execution_count": 20, 
                    "metadata": {}, 
                    "data": {
                        "text/plain": "(103, 2)"
                    }, 
                    "output_type": "execute_result"
                }
            ], 
            "source": "df.shape"
        }, 
        {
            "source": "non-working code to get coordinates through geocoder", 
            "cell_type": "markdown", 
            "metadata": {}
        }, 
        {
            "execution_count": 10, 
            "cell_type": "code", 
            "metadata": {}, 
            "outputs": [], 
            "source": "# !pip install geocoder"
        }, 
        {
            "execution_count": 16, 
            "cell_type": "code", 
            "metadata": {}, 
            "outputs": [], 
            "source": "# import geocoder # import geocoder\n\n# latitude_list = []\n# longitude_list = []\n\n# # initialize your variable to None\n\n# for postcode in df.postcode:\n#     lat_lng_coords = None\n\n#     # loop until you get the coordinates\n#     while(lat_lng_coords is None):\n#         print('trying')\n#         g = geocoder.google('{}, Toronto, Ontario'.format(postcode))\n#         lat_lng_coords = g.latlng\n    \n#     print(postcode, lat_lng_coords)\n\n#     latitude_list.append(lat_lng_coords[0])\n#     longitude_list.append(lat_lng_coords[1])\n\n# print(latitude_list, longitude_list)"
        }, 
        {
            "source": "get latitudes and longitudes from csv-file", 
            "cell_type": "markdown", 
            "metadata": {}
        }, 
        {
            "execution_count": 24, 
            "cell_type": "code", 
            "metadata": {}, 
            "outputs": [
                {
                    "output_type": "stream", 
                    "name": "stdout", 
                    "text": "              Latitude  Longitude\nPostal Code                      \nM1B          43.806686 -79.194353\nM1C          43.784535 -79.160497\nM1E          43.763573 -79.188711\nM1G          43.770992 -79.216917\nM1H          43.773136 -79.239476\n"
                }
            ], 
            "source": "df_lat_long = pd.read_csv('https://cocl.us/Geospatial_data')\ndf_lat_long.set_index('Postal Code', inplace=True)\nprint(df_lat_long.head())\n"
        }, 
        {
            "execution_count": 28, 
            "cell_type": "code", 
            "metadata": {}, 
            "outputs": [
                {
                    "output_type": "stream", 
                    "name": "stdout", 
                    "text": "         borough                                       neighborhood  \\\nM1B  Scarborough                   Rouge, Toronto, Malvern, Toronto   \nM1C  Scarborough  Highland Creek (Toronto), Rouge Hill, Port Uni...   \nM1E  Scarborough  Guildwood, Morningside, Toronto, West Hill, To...   \nM1G  Scarborough                                    Woburn, Toronto   \nM1H  Scarborough                                          Cedarbrae   \n\n      Latitude  Longitude  \nM1B  43.806686 -79.194353  \nM1C  43.784535 -79.160497  \nM1E  43.763573 -79.188711  \nM1G  43.770992 -79.216917  \nM1H  43.773136 -79.239476  \nIndex(['borough', 'neighborhood', 'Latitude', 'Longitude'], dtype='object') (103, 4)\n"
                }
            ], 
            "source": "df_merged = pd.concat([df, df_lat_long], axis=1)\nprint(df_merged.head())\nprint(df_merged.columns, df_merged.shape)"
        }
    ], 
    "metadata": {
        "kernelspec": {
            "display_name": "Python 3.5", 
            "name": "python3", 
            "language": "python"
        }, 
        "language_info": {
            "mimetype": "text/x-python", 
            "nbconvert_exporter": "python", 
            "version": "3.5.5", 
            "name": "python", 
            "file_extension": ".py", 
            "pygments_lexer": "ipython3", 
            "codemirror_mode": {
                "version": 3, 
                "name": "ipython"
            }
        }
    }, 
    "nbformat": 4
}